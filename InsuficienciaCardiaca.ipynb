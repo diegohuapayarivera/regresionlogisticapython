{
 "cells": [
  {
   "cell_type": "markdown",
   "metadata": {},
   "source": [
    "Regresion Logistica"
   ]
  },
  {
   "cell_type": "markdown",
   "metadata": {},
   "source": [
    "Descripción\n",
    "dataset\n",
    "campos"
   ]
  },
  {
   "cell_type": "code",
   "execution_count": 20,
   "metadata": {},
   "outputs": [],
   "source": [
    "import numpy as np \n",
    "import pandas as pd \n",
    "import matplotlib.pyplot as plt\n",
    "import seaborn as sns\n",
    "\n",
    "from sklearn import linear_model, model_selection \n",
    "from sklearn.metrics import classification_report, confusion_matrix, accuracy_score, roc_curve, auc"
   ]
  },
  {
   "cell_type": "code",
   "execution_count": 21,
   "metadata": {},
   "outputs": [
    {
     "data": {
      "text/html": [
       "<div>\n",
       "<style scoped>\n",
       "    .dataframe tbody tr th:only-of-type {\n",
       "        vertical-align: middle;\n",
       "    }\n",
       "\n",
       "    .dataframe tbody tr th {\n",
       "        vertical-align: top;\n",
       "    }\n",
       "\n",
       "    .dataframe thead th {\n",
       "        text-align: right;\n",
       "    }\n",
       "</style>\n",
       "<table border=\"1\" class=\"dataframe\">\n",
       "  <thead>\n",
       "    <tr style=\"text-align: right;\">\n",
       "      <th></th>\n",
       "      <th>age</th>\n",
       "      <th>anaemia</th>\n",
       "      <th>creatinine_phosphokinase</th>\n",
       "      <th>diabetes</th>\n",
       "      <th>ejection_fraction</th>\n",
       "      <th>high_blood_pressure</th>\n",
       "      <th>platelets</th>\n",
       "      <th>serum_creatinine</th>\n",
       "      <th>serum_sodium</th>\n",
       "      <th>sex</th>\n",
       "      <th>smoking</th>\n",
       "      <th>time</th>\n",
       "      <th>DEATH_EVENT</th>\n",
       "    </tr>\n",
       "  </thead>\n",
       "  <tbody>\n",
       "    <tr>\n",
       "      <th>0</th>\n",
       "      <td>75.0</td>\n",
       "      <td>0</td>\n",
       "      <td>582</td>\n",
       "      <td>0</td>\n",
       "      <td>20</td>\n",
       "      <td>1</td>\n",
       "      <td>265000.00</td>\n",
       "      <td>1.9</td>\n",
       "      <td>130</td>\n",
       "      <td>1</td>\n",
       "      <td>0</td>\n",
       "      <td>4</td>\n",
       "      <td>1</td>\n",
       "    </tr>\n",
       "    <tr>\n",
       "      <th>1</th>\n",
       "      <td>55.0</td>\n",
       "      <td>0</td>\n",
       "      <td>7861</td>\n",
       "      <td>0</td>\n",
       "      <td>38</td>\n",
       "      <td>0</td>\n",
       "      <td>263358.03</td>\n",
       "      <td>1.1</td>\n",
       "      <td>136</td>\n",
       "      <td>1</td>\n",
       "      <td>0</td>\n",
       "      <td>6</td>\n",
       "      <td>1</td>\n",
       "    </tr>\n",
       "    <tr>\n",
       "      <th>2</th>\n",
       "      <td>65.0</td>\n",
       "      <td>0</td>\n",
       "      <td>146</td>\n",
       "      <td>0</td>\n",
       "      <td>20</td>\n",
       "      <td>0</td>\n",
       "      <td>162000.00</td>\n",
       "      <td>1.3</td>\n",
       "      <td>129</td>\n",
       "      <td>1</td>\n",
       "      <td>1</td>\n",
       "      <td>7</td>\n",
       "      <td>1</td>\n",
       "    </tr>\n",
       "    <tr>\n",
       "      <th>3</th>\n",
       "      <td>50.0</td>\n",
       "      <td>1</td>\n",
       "      <td>111</td>\n",
       "      <td>0</td>\n",
       "      <td>20</td>\n",
       "      <td>0</td>\n",
       "      <td>210000.00</td>\n",
       "      <td>1.9</td>\n",
       "      <td>137</td>\n",
       "      <td>1</td>\n",
       "      <td>0</td>\n",
       "      <td>7</td>\n",
       "      <td>1</td>\n",
       "    </tr>\n",
       "    <tr>\n",
       "      <th>4</th>\n",
       "      <td>65.0</td>\n",
       "      <td>1</td>\n",
       "      <td>160</td>\n",
       "      <td>1</td>\n",
       "      <td>20</td>\n",
       "      <td>0</td>\n",
       "      <td>327000.00</td>\n",
       "      <td>2.7</td>\n",
       "      <td>116</td>\n",
       "      <td>0</td>\n",
       "      <td>0</td>\n",
       "      <td>8</td>\n",
       "      <td>1</td>\n",
       "    </tr>\n",
       "    <tr>\n",
       "      <th>5</th>\n",
       "      <td>90.0</td>\n",
       "      <td>1</td>\n",
       "      <td>47</td>\n",
       "      <td>0</td>\n",
       "      <td>40</td>\n",
       "      <td>1</td>\n",
       "      <td>204000.00</td>\n",
       "      <td>2.1</td>\n",
       "      <td>132</td>\n",
       "      <td>1</td>\n",
       "      <td>1</td>\n",
       "      <td>8</td>\n",
       "      <td>1</td>\n",
       "    </tr>\n",
       "    <tr>\n",
       "      <th>6</th>\n",
       "      <td>75.0</td>\n",
       "      <td>1</td>\n",
       "      <td>246</td>\n",
       "      <td>0</td>\n",
       "      <td>15</td>\n",
       "      <td>0</td>\n",
       "      <td>127000.00</td>\n",
       "      <td>1.2</td>\n",
       "      <td>137</td>\n",
       "      <td>1</td>\n",
       "      <td>0</td>\n",
       "      <td>10</td>\n",
       "      <td>1</td>\n",
       "    </tr>\n",
       "    <tr>\n",
       "      <th>7</th>\n",
       "      <td>60.0</td>\n",
       "      <td>1</td>\n",
       "      <td>315</td>\n",
       "      <td>1</td>\n",
       "      <td>60</td>\n",
       "      <td>0</td>\n",
       "      <td>454000.00</td>\n",
       "      <td>1.1</td>\n",
       "      <td>131</td>\n",
       "      <td>1</td>\n",
       "      <td>1</td>\n",
       "      <td>10</td>\n",
       "      <td>1</td>\n",
       "    </tr>\n",
       "    <tr>\n",
       "      <th>8</th>\n",
       "      <td>65.0</td>\n",
       "      <td>0</td>\n",
       "      <td>157</td>\n",
       "      <td>0</td>\n",
       "      <td>65</td>\n",
       "      <td>0</td>\n",
       "      <td>263358.03</td>\n",
       "      <td>1.5</td>\n",
       "      <td>138</td>\n",
       "      <td>0</td>\n",
       "      <td>0</td>\n",
       "      <td>10</td>\n",
       "      <td>1</td>\n",
       "    </tr>\n",
       "    <tr>\n",
       "      <th>9</th>\n",
       "      <td>80.0</td>\n",
       "      <td>1</td>\n",
       "      <td>123</td>\n",
       "      <td>0</td>\n",
       "      <td>35</td>\n",
       "      <td>1</td>\n",
       "      <td>388000.00</td>\n",
       "      <td>9.4</td>\n",
       "      <td>133</td>\n",
       "      <td>1</td>\n",
       "      <td>1</td>\n",
       "      <td>10</td>\n",
       "      <td>1</td>\n",
       "    </tr>\n",
       "  </tbody>\n",
       "</table>\n",
       "</div>"
      ],
      "text/plain": [
       "    age  anaemia  creatinine_phosphokinase  diabetes  ejection_fraction  \\\n",
       "0  75.0        0                       582         0                 20   \n",
       "1  55.0        0                      7861         0                 38   \n",
       "2  65.0        0                       146         0                 20   \n",
       "3  50.0        1                       111         0                 20   \n",
       "4  65.0        1                       160         1                 20   \n",
       "5  90.0        1                        47         0                 40   \n",
       "6  75.0        1                       246         0                 15   \n",
       "7  60.0        1                       315         1                 60   \n",
       "8  65.0        0                       157         0                 65   \n",
       "9  80.0        1                       123         0                 35   \n",
       "\n",
       "   high_blood_pressure  platelets  serum_creatinine  serum_sodium  sex  \\\n",
       "0                    1  265000.00               1.9           130    1   \n",
       "1                    0  263358.03               1.1           136    1   \n",
       "2                    0  162000.00               1.3           129    1   \n",
       "3                    0  210000.00               1.9           137    1   \n",
       "4                    0  327000.00               2.7           116    0   \n",
       "5                    1  204000.00               2.1           132    1   \n",
       "6                    0  127000.00               1.2           137    1   \n",
       "7                    0  454000.00               1.1           131    1   \n",
       "8                    0  263358.03               1.5           138    0   \n",
       "9                    1  388000.00               9.4           133    1   \n",
       "\n",
       "   smoking  time  DEATH_EVENT  \n",
       "0        0     4            1  \n",
       "1        0     6            1  \n",
       "2        1     7            1  \n",
       "3        0     7            1  \n",
       "4        0     8            1  \n",
       "5        1     8            1  \n",
       "6        0    10            1  \n",
       "7        1    10            1  \n",
       "8        0    10            1  \n",
       "9        1    10            1  "
      ]
     },
     "execution_count": 21,
     "metadata": {},
     "output_type": "execute_result"
    }
   ],
   "source": [
    "# Importamos nuestro archivo csv\n",
    "datos = pd.read_csv('dataset.csv')\n",
    "\n",
    "# Mostramos las 10 primera columnas\n",
    "datos.head(n=10)"
   ]
  },
  {
   "cell_type": "code",
   "execution_count": 81,
   "metadata": {},
   "outputs": [
    {
     "name": "stdout",
     "output_type": "stream",
     "text": [
      "ESTADISTICA BASICA\n",
      "              age  creatinine_phosphokinase  ejection_fraction      platelets  \\\n",
      "count  299.000000                299.000000         299.000000     299.000000   \n",
      "mean    60.833893                581.839465          38.083612  263358.029264   \n",
      "std     11.894809                970.287881          11.834841   97804.236869   \n",
      "min     40.000000                 23.000000          14.000000   25100.000000   \n",
      "25%     51.000000                116.500000          30.000000  212500.000000   \n",
      "50%     60.000000                250.000000          38.000000  262000.000000   \n",
      "75%     70.000000                582.000000          45.000000  303500.000000   \n",
      "max     95.000000               7861.000000          80.000000  850000.000000   \n",
      "\n",
      "       serum_creatinine  serum_sodium        time  \n",
      "count         299.00000    299.000000  299.000000  \n",
      "mean            1.39388    136.625418  130.260870  \n",
      "std             1.03451      4.412477   77.614208  \n",
      "min             0.50000    113.000000    4.000000  \n",
      "25%             0.90000    134.000000   73.000000  \n",
      "50%             1.10000    137.000000  115.000000  \n",
      "75%             1.40000    140.000000  203.000000  \n",
      "max             9.40000    148.000000  285.000000  \n",
      "------------------------------------------------------------------------------------------------------------------\n",
      "TIPO DE DATOS\n",
      "age                         float64\n",
      "anaemia                       int64\n",
      "creatinine_phosphokinase      int64\n",
      "diabetes                      int64\n",
      "ejection_fraction             int64\n",
      "high_blood_pressure           int64\n",
      "platelets                   float64\n",
      "serum_creatinine            float64\n",
      "serum_sodium                  int64\n",
      "sex                           int64\n",
      "smoking                       int64\n",
      "time                          int64\n",
      "DEATH_EVENT                   int64\n",
      "dtype: object\n"
     ]
    }
   ],
   "source": [
    "# Selecionamos las columnas \n",
    "cols = ['age', 'creatinine_phosphokinase', 'ejection_fraction', 'platelets', 'serum_creatinine', 'serum_sodium', 'time']\n",
    "\n",
    "# Con los datos seleccionados vemos la naturaleza de sus datos\n",
    "z= datos[cols].describe()\n",
    "\n",
    "e= datos.dtypes\n",
    "print ('ESTADISTICA BASICA')\n",
    "print (z)\n",
    "print ('------------------------------------------------------------------------------------------------------------------')\n",
    "print ('TIPO DE DATOS')\n",
    "print (e)\n",
    "\n"
   ]
  },
  {
   "cell_type": "code",
   "execution_count": 22,
   "metadata": {},
   "outputs": [
    {
     "data": {
      "text/html": [
       "<div>\n",
       "<style scoped>\n",
       "    .dataframe tbody tr th:only-of-type {\n",
       "        vertical-align: middle;\n",
       "    }\n",
       "\n",
       "    .dataframe tbody tr th {\n",
       "        vertical-align: top;\n",
       "    }\n",
       "\n",
       "    .dataframe thead th {\n",
       "        text-align: right;\n",
       "    }\n",
       "</style>\n",
       "<table border=\"1\" class=\"dataframe\">\n",
       "  <thead>\n",
       "    <tr style=\"text-align: right;\">\n",
       "      <th></th>\n",
       "      <th>age</th>\n",
       "      <th>creatinine_phosphokinase</th>\n",
       "      <th>ejection_fraction</th>\n",
       "      <th>platelets</th>\n",
       "      <th>serum_creatinine</th>\n",
       "      <th>serum_sodium</th>\n",
       "      <th>time</th>\n",
       "    </tr>\n",
       "  </thead>\n",
       "  <tbody>\n",
       "    <tr>\n",
       "      <th>age</th>\n",
       "      <td>1.000000</td>\n",
       "      <td>-0.081584</td>\n",
       "      <td>0.060098</td>\n",
       "      <td>-0.052354</td>\n",
       "      <td>0.159187</td>\n",
       "      <td>-0.045966</td>\n",
       "      <td>-0.224068</td>\n",
       "    </tr>\n",
       "    <tr>\n",
       "      <th>creatinine_phosphokinase</th>\n",
       "      <td>-0.081584</td>\n",
       "      <td>1.000000</td>\n",
       "      <td>-0.044080</td>\n",
       "      <td>0.024463</td>\n",
       "      <td>-0.016408</td>\n",
       "      <td>0.059550</td>\n",
       "      <td>-0.009346</td>\n",
       "    </tr>\n",
       "    <tr>\n",
       "      <th>ejection_fraction</th>\n",
       "      <td>0.060098</td>\n",
       "      <td>-0.044080</td>\n",
       "      <td>1.000000</td>\n",
       "      <td>0.072177</td>\n",
       "      <td>-0.011302</td>\n",
       "      <td>0.175902</td>\n",
       "      <td>0.041729</td>\n",
       "    </tr>\n",
       "    <tr>\n",
       "      <th>platelets</th>\n",
       "      <td>-0.052354</td>\n",
       "      <td>0.024463</td>\n",
       "      <td>0.072177</td>\n",
       "      <td>1.000000</td>\n",
       "      <td>-0.041198</td>\n",
       "      <td>0.062125</td>\n",
       "      <td>0.010514</td>\n",
       "    </tr>\n",
       "    <tr>\n",
       "      <th>serum_creatinine</th>\n",
       "      <td>0.159187</td>\n",
       "      <td>-0.016408</td>\n",
       "      <td>-0.011302</td>\n",
       "      <td>-0.041198</td>\n",
       "      <td>1.000000</td>\n",
       "      <td>-0.189095</td>\n",
       "      <td>-0.149315</td>\n",
       "    </tr>\n",
       "    <tr>\n",
       "      <th>serum_sodium</th>\n",
       "      <td>-0.045966</td>\n",
       "      <td>0.059550</td>\n",
       "      <td>0.175902</td>\n",
       "      <td>0.062125</td>\n",
       "      <td>-0.189095</td>\n",
       "      <td>1.000000</td>\n",
       "      <td>0.087640</td>\n",
       "    </tr>\n",
       "    <tr>\n",
       "      <th>time</th>\n",
       "      <td>-0.224068</td>\n",
       "      <td>-0.009346</td>\n",
       "      <td>0.041729</td>\n",
       "      <td>0.010514</td>\n",
       "      <td>-0.149315</td>\n",
       "      <td>0.087640</td>\n",
       "      <td>1.000000</td>\n",
       "    </tr>\n",
       "  </tbody>\n",
       "</table>\n",
       "</div>"
      ],
      "text/plain": [
       "                               age  creatinine_phosphokinase  \\\n",
       "age                       1.000000                 -0.081584   \n",
       "creatinine_phosphokinase -0.081584                  1.000000   \n",
       "ejection_fraction         0.060098                 -0.044080   \n",
       "platelets                -0.052354                  0.024463   \n",
       "serum_creatinine          0.159187                 -0.016408   \n",
       "serum_sodium             -0.045966                  0.059550   \n",
       "time                     -0.224068                 -0.009346   \n",
       "\n",
       "                          ejection_fraction  platelets  serum_creatinine  \\\n",
       "age                                0.060098  -0.052354          0.159187   \n",
       "creatinine_phosphokinase          -0.044080   0.024463         -0.016408   \n",
       "ejection_fraction                  1.000000   0.072177         -0.011302   \n",
       "platelets                          0.072177   1.000000         -0.041198   \n",
       "serum_creatinine                  -0.011302  -0.041198          1.000000   \n",
       "serum_sodium                       0.175902   0.062125         -0.189095   \n",
       "time                               0.041729   0.010514         -0.149315   \n",
       "\n",
       "                          serum_sodium      time  \n",
       "age                          -0.045966 -0.224068  \n",
       "creatinine_phosphokinase      0.059550 -0.009346  \n",
       "ejection_fraction             0.175902  0.041729  \n",
       "platelets                     0.062125  0.010514  \n",
       "serum_creatinine             -0.189095 -0.149315  \n",
       "serum_sodium                  1.000000  0.087640  \n",
       "time                          0.087640  1.000000  "
      ]
     },
     "execution_count": 22,
     "metadata": {},
     "output_type": "execute_result"
    }
   ],
   "source": [
    "# Seleccionamos las columnas \n",
    "cols = ['age', 'creatinine_phosphokinase', 'ejection_fraction', 'platelets', 'serum_creatinine', 'serum_sodium', 'time']\n",
    "\n",
    "# Calculamos la correlación por pares de columnas\n",
    "datos[cols].corr()"
   ]
  },
  {
   "cell_type": "markdown",
   "metadata": {},
   "source": [
    "Buscamos relación "
   ]
  },
  {
   "cell_type": "code",
   "execution_count": 23,
   "metadata": {},
   "outputs": [
    {
     "data": {
      "image/png": "[encoded data removed]",
      "text/plain": [
       "<Figure size 432x360 with 1 Axes>"
      ]
     },
     "metadata": {},
     "output_type": "display_data"
    }
   ],
   "source": [
    "# Creamos un grafico de barras mostrando los que fallecieron y los que no\n",
    "target_count = datos.DEATH_EVENT.value_counts()\n",
    "death_color = ['navy', 'crimson']\n",
    "with plt.style.context('ggplot'):\n",
    "    plt.figure(figsize=(6, 5))\n",
    "    sns.countplot(data=datos, x='DEATH_EVENT', palette=death_color)\n",
    "    for name , val in zip(target_count.index, target_count.values):\n",
    "        plt.text(name, val/2, f'{round(val/sum(target_count)*100, 2)}%\\n({val})', ha='center',\n",
    "                color='white', fontdict={'fontsize':13})\n",
    "    plt.xticks(ticks=target_count.index, labels=['No', 'Si'])\n",
    "    plt.yticks(np.arange(0, 230, 25))\n",
    "    plt.show()"
   ]
  },
  {
   "cell_type": "code",
   "execution_count": 24,
   "metadata": {},
   "outputs": [
    {
     "data": {
      "text/plain": [
       "<AxesSubplot:xlabel='DEATH_EVENT', ylabel='count'>"
      ]
     },
     "execution_count": 24,
     "metadata": {},
     "output_type": "execute_result"
    },
    {
     "data": {
      "image/png": "[encoded data removed]",
      "text/plain": [
       "<Figure size 432x288 with 1 Axes>"
      ]
     },
     "metadata": {
      "needs_background": "light"
     },
     "output_type": "display_data"
    }
   ],
   "source": [
    "# Relacion entre la variable objetiva con SMOKING\n",
    "sns.countplot(data=datos, x='DEATH_EVENT', hue = 'smoking')"
   ]
  },
  {
   "cell_type": "code",
   "execution_count": 25,
   "metadata": {},
   "outputs": [
    {
     "data": {
      "text/plain": [
       "<AxesSubplot:xlabel='DEATH_EVENT', ylabel='count'>"
      ]
     },
     "execution_count": 25,
     "metadata": {},
     "output_type": "execute_result"
    },
    {
     "data": {
      "image/png": "[encoded data removed]",
      "text/plain": [
       "<Figure size 432x288 with 1 Axes>"
      ]
     },
     "metadata": {
      "needs_background": "light"
     },
     "output_type": "display_data"
    }
   ],
   "source": [
    "# Relacion entre la variable objetiva con HIPERTENSIÓN\n",
    "sns.countplot(data=datos, x='DEATH_EVENT', hue = 'high_blood_pressure')"
   ]
  },
  {
   "cell_type": "code",
   "execution_count": 26,
   "metadata": {},
   "outputs": [
    {
     "data": {
      "text/plain": [
       "DEATH_EVENT\n",
       "0    58.761906\n",
       "1    65.215281\n",
       "Name: age, dtype: float64"
      ]
     },
     "execution_count": 26,
     "metadata": {},
     "output_type": "execute_result"
    }
   ],
   "source": [
    "# Promedio de fallecidos por edades\n",
    "datos.groupby(['DEATH_EVENT'])['age'].mean()"
   ]
  },
  {
   "cell_type": "code",
   "execution_count": 27,
   "metadata": {},
   "outputs": [
    {
     "data": {
      "text/plain": [
       "<seaborn.axisgrid.FacetGrid at 0x21844f607f0>"
      ]
     },
     "execution_count": 27,
     "metadata": {},
     "output_type": "execute_result"
    },
    {
     "data": {
      "image/png": "[encoded data removed]",
      "text/plain": [
       "<Figure size 445.575x288 with 2 Axes>"
      ]
     },
     "metadata": {
      "needs_background": "light"
     },
     "output_type": "display_data"
    }
   ],
   "source": [
    "# Analizamos la relacion entre los FALLECIDOS y ANEMIA por SEXO\n",
    "sns.catplot(x = 'anaemia', hue = 'sex', col = 'DEATH_EVENT', data = datos, kind = 'count', height= 4, aspect= 0.7 )"
   ]
  },
  {
   "cell_type": "code",
   "execution_count": 28,
   "metadata": {},
   "outputs": [
    {
     "data": {
      "text/plain": [
       "<matplotlib.legend.Legend at 0x21844f56400>"
      ]
     },
     "execution_count": 28,
     "metadata": {},
     "output_type": "execute_result"
    },
    {
     "data": {
      "image/png": "[encoded data removed]",
      "text/plain": [
       "<Figure size 432x288 with 1 Axes>"
      ]
     },
     "metadata": {
      "needs_background": "light"
     },
     "output_type": "display_data"
    }
   ],
   "source": [
    "# Almacenamos los datos de Fallecidos en un array\n",
    "x1 = datos.age[datos.DEATH_EVENT == 1]\n",
    "\n",
    "# Almacenamos los datos de Sobrevivientes en un array\n",
    "x2 = datos [datos.DEATH_EVENT == 0] ['age']\n",
    "\n",
    "# Diseño del gráfico\n",
    "kwargs = dict(alpha=0.5, bins=8, density=True)\n",
    "\n",
    "# Mostramos los datos filtrados\n",
    "plt.hist(x1, color='g', label='No sobrevive', **kwargs)\n",
    "plt.hist(x2, color='b', label='sobrevive', **kwargs)\n",
    "plt.legend()"
   ]
  },
  {
   "cell_type": "markdown",
   "metadata": {},
   "source": [
    "Splot data in train and test"
   ]
  },
  {
   "cell_type": "code",
   "execution_count": 29,
   "metadata": {},
   "outputs": [
    {
     "data": {
      "text/plain": [
       "(299, 12)"
      ]
     },
     "execution_count": 29,
     "metadata": {},
     "output_type": "execute_result"
    }
   ],
   "source": [
    "# Creamos 2 arrays que serviran de entrada para nuestra R. Logística\n",
    "X= datos.drop(columns='DEATH_EVENT')\n",
    "y= datos.DEATH_EVENT\n",
    "\n",
    "# Dimensión de nuetra matriz\n",
    "X.shape"
   ]
  },
  {
   "cell_type": "code",
   "execution_count": 45,
   "metadata": {},
   "outputs": [],
   "source": [
    "# Variables que representaran el 20% de dato a usar para el modelo, el resto será de entrenamiento \n",
    "validacion = 0.20\n",
    "valor = 0\n",
    "\n",
    "# Separamos la data\n",
    "X_train, X_test, y_train, y_test = model_selection.train_test_split(X, y, test_size=validacion, random_state= valor)"
   ]
  },
  {
   "cell_type": "markdown",
   "metadata": {},
   "source": [
    "Probando el modelo"
   ]
  },
  {
   "cell_type": "code",
   "execution_count": 46,
   "metadata": {},
   "outputs": [
    {
     "name": "stdout",
     "output_type": "stream",
     "text": [
      "Precision en conjunto de entrenamiento: 0.8577405857740585\n",
      "Precision en conjunto de prueba: 0.7333333333333333\n"
     ]
    }
   ],
   "source": [
    "# Generamos nuestro modelo de Regresion Logistica\n",
    "modelo = linear_model.LogisticRegression(solver= 'lbfgs', max_iter= 1000)\n",
    "\n",
    "# Le asignamos los valores de entrada, para ajustar nuestro modelo\n",
    "modelo.fit(X_train,y_train)\n",
    "\n",
    "# Predecimos los resultados\n",
    "prediccion = modelo.predict(X_test)\n",
    "\n",
    "accuracyTrain = modelo.score(X_train, y_train)\n",
    "accuracyTest= modelo.score(X_test, y_test)\n",
    "\n",
    "print ('Precision en conjunto de entrenamiento:', accuracyTrain)\n",
    "print ('Precision en conjunto de prueba:', accuracyTest)"
   ]
  },
  {
   "cell_type": "code",
   "execution_count": 82,
   "metadata": {},
   "outputs": [
    {
     "name": "stdout",
     "output_type": "stream",
     "text": [
      "precision en validacion cruzada: [0.75       0.91666667 0.89583333 0.79166667 0.80851064]\n"
     ]
    }
   ],
   "source": [
    "# Generamos nuestros pliegues de validación\n",
    "kfold = model_selection.KFold(n_splits=5, random_state= valor, shuffle=True)\n",
    "\n",
    "#Validamos nuestro modelo dividiendo en partes, y pasandole la metrica de validación\n",
    "cv_resultados = model_selection.cross_val_score(modelo, X_train, y_train, cv=kfold, scoring='accuracy')\n",
    "\n",
    "print ('precision en validacion cruzada:', cv_resultados)"
   ]
  },
  {
   "cell_type": "code",
   "execution_count": 55,
   "metadata": {},
   "outputs": [
    {
     "name": "stdout",
     "output_type": "stream",
     "text": [
      "Area debajo de la curva de ROC: 0.826087\n"
     ]
    },
    {
     "data": {
      "image/png": "[encoded data removed]",
      "text/plain": [
       "<Figure size 432x288 with 1 Axes>"
      ]
     },
     "metadata": {
      "needs_background": "light"
     },
     "output_type": "display_data"
    },
    {
     "name": "stdout",
     "output_type": "stream",
     "text": [
      "0.2779050065133957\n"
     ]
    }
   ],
   "source": [
    "# Generamos nuestra curva ROC\n",
    "fpr , tpr , threholds = roc_curve(y_test, modelo.predict_proba(X_test)[:,1])\n",
    "\n",
    "# Establecemos nuestro valor AUC\n",
    "roc_auc = auc(fpr, tpr)\n",
    "print (\"Area debajo de la curva de ROC: %f\" % roc_auc)\n",
    "\n",
    "# Creamos nuestra figura \n",
    "plt.figure()\n",
    "plt.plot(fpr, tpr, label='Regresion Logistica')\n",
    "plt.plot([0, 1], [0, 1], 'r--')\n",
    "\n",
    "# Establecemos los limites\n",
    "plt.xlim({0.0, 1.0})\n",
    "plt.ylim([0.0, 1.05])\n",
    "\n",
    "# Asignamos nuestros titulos\n",
    "plt.xlabel('Tasa de Falsos positivos')\n",
    "plt.ylabel('Tasa de Verdaderos Positivos')\n",
    "plt.title('Curva Roc')\n",
    "\n",
    "# Definimos la ubicación de la leyenda\n",
    "plt.legend(loc= 'lower right')\n",
    "\n",
    "#mostramos nuestra figura\n",
    "plt.show()\n",
    "\n",
    "optimal_idx = np.argmax(tpr - fpr)\n",
    "optimal_threshold = threholds[optimal_idx]\n",
    "print (optimal_threshold)"
   ]
  },
  {
   "cell_type": "code",
   "execution_count": 56,
   "metadata": {},
   "outputs": [
    {
     "name": "stdout",
     "output_type": "stream",
     "text": [
      "[[35  2]\n",
      " [14  9]]\n"
     ]
    }
   ],
   "source": [
    "# Generamos nuestra matriz de confusion\n",
    "print (confusion_matrix(y_test, prediccion))"
   ]
  },
  {
   "cell_type": "code",
   "execution_count": 57,
   "metadata": {},
   "outputs": [
    {
     "name": "stdout",
     "output_type": "stream",
     "text": [
      "              precision    recall  f1-score   support\n",
      "\n",
      "           0       0.71      0.95      0.81        37\n",
      "           1       0.82      0.39      0.53        23\n",
      "\n",
      "    accuracy                           0.73        60\n",
      "   macro avg       0.77      0.67      0.67        60\n",
      "weighted avg       0.75      0.73      0.70        60\n",
      "\n"
     ]
    }
   ],
   "source": [
    "# Generamos las metricas, mediante un reporte\n",
    "print (classification_report(y_test, prediccion))"
   ]
  },
  {
   "cell_type": "code",
   "execution_count": null,
   "metadata": {},
   "outputs": [],
   "source": []
  }
 ],
 "metadata": {
  "kernelspec": {
   "display_name": "Python 3",
   "language": "python",
   "name": "python3"
  },
  "language_info": {
   "codemirror_mode": {
    "name": "ipython",
    "version": 3
   },
   "file_extension": ".py",
   "mimetype": "text/x-python",
   "name": "python",
   "nbconvert_exporter": "python",
   "pygments_lexer": "ipython3",
   "version": "3.8.5"
  }
 },
 "nbformat": 4,
 "nbformat_minor": 4
}
